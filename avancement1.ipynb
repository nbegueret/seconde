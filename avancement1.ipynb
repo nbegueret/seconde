{
 "cells": [
  {
   "cell_type": "markdown",
   "id": "28c7bcc6",
   "metadata": {},
   "source": [
    "# <div class= \"alert alert-info\" role=\"alert\"> <center> TP n°10 :  L'avancement d'une réaction chimique\n",
    "   "
   ]
  },
  {
   "cell_type": "markdown",
   "id": "7bc247b4",
   "metadata": {},
   "source": [
    "Placez-vous sur la cellule ci-dessous et cliquer sur l'icone lecture pour lancer le programme. "
   ]
  },
  {
   "cell_type": "code",
   "execution_count": null,
   "id": "a027da92",
   "metadata": {},
   "outputs": [],
   "source": [
    "import matplotlib.pyplot as plt\n",
    "print (\"Evolution des quantités de matière\")\n",
    "print (\"Réaction : Cu2+ + 2 HO- ---> Cu(OH)2\")\n",
    "#Rentrer les valeurs des quantités de matière des réactifs à l'état initial\n",
    "niA= float(input (\"quantité initiale d'ion Cu2+ ( en mol) (si puissance de 10 utiliser E):\"))\n",
    "niB= float(input(\"quantité initiale en ion HO- ( en mol) ( si puissance de 10 utiliser E):\"))\n",
    "niC=0\n",
    "a=1 #coefficient stoechiométrique devant Cu2+\n",
    "b=2 #coefficient stoechiométrique devant HO-\n",
    "c=1 #coefficient stoechiométrique devant Cu(OH)2\n",
    "\n",
    "\n",
    "#calcul de l'avancement maximal\n",
    "xmax=min(niA/a, niB/b)\n",
    "\n",
    "#ajustement de l'axe des ordonnée, calcul de ymax\n",
    "ymax=max(niA,niB)\n",
    "\n",
    "#Nombre de points\n",
    "nbrePoints=25\n",
    "\n",
    "#Légendes des axes\n",
    "plt.xlabel(\"x (mol)\")\n",
    "plt.ylabel(\"n(mol)\")\n",
    "plt.title(\"Evolution des quantités de matière au cours de la transformation chimique Cu2+ en cyan, OH- en vert, Cu(OH)2 en bleu\")\n",
    "plt.grid()\n",
    "plt.axis\n",
    "plt.axis([0,xmax,0,ymax])\n",
    "\n",
    "x=[]       # Liste stockant les valeurs successives d'avancement; liste vide\n",
    "NA=[]     # Liste stockant les quantités des matière du réactif A ; liste vide\n",
    "NB=[]     # Idem pour le reactif B ;\n",
    "NC=[]     # Idem pour le produit C\n",
    " #valeur initiale de l'avancement\n",
    "\n",
    "for i in range(26):\n",
    "    x.append(i*xmax/nbrePoints)\n",
    "    NA.append(niA-a*x[i])\n",
    "    NB.append(niB-b*x[i])\n",
    "    NC.append(niC+c*x[i])\n",
    "    plt.plot(x,NA,'c+-') \n",
    "    plt.plot(x,NB,'g+-')\n",
    "    plt.plot(x,NC,'b+-')\n",
    "\n",
    "plt.show()\n",
    "\n"
   ]
  },
  {
   "cell_type": "code",
   "execution_count": null,
   "id": "2894631b",
   "metadata": {},
   "outputs": [],
   "source": []
  }
 ],
 "metadata": {
  "kernelspec": {
   "display_name": "Python 3",
   "language": "python",
   "name": "python3"
  },
  "language_info": {
   "codemirror_mode": {
    "name": "ipython",
    "version": 3
   },
   "file_extension": ".py",
   "mimetype": "text/x-python",
   "name": "python",
   "nbconvert_exporter": "python",
   "pygments_lexer": "ipython3",
   "version": "3.9.4"
  }
 },
 "nbformat": 4,
 "nbformat_minor": 5
}
